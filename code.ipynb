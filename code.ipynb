{
 "cells": [
  {
   "cell_type": "code",
   "execution_count": 1,
   "id": "d038b1dc",
   "metadata": {},
   "outputs": [],
   "source": [
    "import pandas as pd\n",
    "import torch\n",
    "import torch.nn as nn\n",
    "import torchvision.transforms as transforms\n",
    "from sklearn.preprocessing import StandardScaler\n",
    "import matplotlib.pyplot as plt"
   ]
  },
  {
   "cell_type": "code",
   "execution_count": 2,
   "id": "55b761cc",
   "metadata": {},
   "outputs": [],
   "source": [
    "data = pd.read_csv(\"heart_cleveland_upload.csv\")"
   ]
  },
  {
   "cell_type": "code",
   "execution_count": 3,
   "id": "fb2a3d30",
   "metadata": {},
   "outputs": [],
   "source": [
    "class Dataset(torch.utils.data.Dataset):\n",
    "    def __init__(self, csv_file):\n",
    "        self.data = pd.read_csv(csv_file)\n",
    "        self.x = self.data.iloc[:, :-1].values.astype('float32')\n",
    "        self.y = self.data.iloc[:, -1].values.astype('float32')\n",
    "\n",
    "        self.scaler = StandardScaler()\n",
    "        self.x = self.scaler.fit_transform(self.x).astype('float32')\n",
    "\n",
    "    def __len__(self):\n",
    "        return len(self.x)\n",
    "    def __getitem__(self, index):\n",
    "        return torch.tensor(self.x[index]),  torch.tensor(self.y[index])"
   ]
  },
  {
   "cell_type": "code",
   "execution_count": 4,
   "id": "98bd6b30",
   "metadata": {},
   "outputs": [],
   "source": [
    "dataset = Dataset(\"heart_cleveland_upload.csv\")"
   ]
  },
  {
   "cell_type": "code",
   "execution_count": 5,
   "id": "8e937cc6",
   "metadata": {},
   "outputs": [],
   "source": [
    "train_size = int(0.8 * len(dataset))\n",
    "test_size = len(dataset) - train_size\n",
    "\n",
    "train_data, test_data = torch.utils.data.random_split(dataset = dataset,\n",
    "                            lengths = [train_size, test_size],\n",
    "                            generator = torch.Generator().manual_seed(17))"
   ]
  },
  {
   "cell_type": "code",
   "execution_count": 6,
   "id": "8248ef09",
   "metadata": {},
   "outputs": [],
   "source": [
    "train_loader = torch.utils.data.DataLoader(dataset = train_data,\n",
    "                            batch_size = 25,\n",
    "                            shuffle = True)\n",
    "\n",
    "test_loader = torch.utils.data.DataLoader(dataset = test_data,\n",
    "                            batch_size = 25,\n",
    "                            shuffle = False)"
   ]
  },
  {
   "cell_type": "code",
   "execution_count": 15,
   "id": "fa312991",
   "metadata": {},
   "outputs": [],
   "source": [
    "class Model(nn.Module):\n",
    "    def __init__(self):\n",
    "        super().__init__()\n",
    "        self.fc1 = nn.Linear(13, 64)\n",
    "        self.fc2 = nn.Linear(64, 32)\n",
    "        self.fc3 = nn.Linear(32, 16)\n",
    "        self.fc4 = nn.Linear(16, 1)\n",
    "        self.tanh = nn.Tanh()\n",
    "        self.sigmoid = nn.Sigmoid()\n",
    "        self.dropout = nn.Dropout(0.5)\n",
    "    def forward(self, x):\n",
    "        out = self.fc1(x)\n",
    "        out = self.tanh(out)\n",
    "        out = self.dropout(out)\n",
    "\n",
    "        out = self.fc2(out)\n",
    "        out = self.tanh(out)\n",
    "        out = self.dropout(out)\n",
    "\n",
    "        out = self.fc3(out)\n",
    "        out = self.tanh(out)\n",
    "        out = self.dropout(out)\n",
    "\n",
    "        out = self.fc4(out)\n",
    "        out = self.sigmoid(out)\n",
    "        return out "
   ]
  },
  {
   "cell_type": "code",
   "execution_count": 17,
   "id": "167636e7",
   "metadata": {},
   "outputs": [
    {
     "name": "stdout",
     "output_type": "stream",
     "text": [
      "Epoch: [50/500], Loss: 0.6662, Training Accuracy: 0.5907, Testing Accuracy: 0.8000\n",
      "Epoch: [100/500], Loss: 0.3904, Training Accuracy: 0.8439, Testing Accuracy: 0.8667\n",
      "Epoch: [150/500], Loss: 0.4116, Training Accuracy: 0.8312, Testing Accuracy: 0.8500\n",
      "Epoch: [200/500], Loss: 0.3333, Training Accuracy: 0.8608, Testing Accuracy: 0.8500\n",
      "Epoch: [250/500], Loss: 0.3479, Training Accuracy: 0.8650, Testing Accuracy: 0.8833\n",
      "Epoch: [300/500], Loss: 0.3509, Training Accuracy: 0.8692, Testing Accuracy: 0.8833\n",
      "Epoch: [350/500], Loss: 0.3399, Training Accuracy: 0.8565, Testing Accuracy: 0.8833\n",
      "Epoch: [400/500], Loss: 0.2787, Training Accuracy: 0.8903, Testing Accuracy: 0.8833\n",
      "Epoch: [450/500], Loss: 0.2685, Training Accuracy: 0.9030, Testing Accuracy: 0.8667\n",
      "Epoch: [500/500], Loss: 0.2722, Training Accuracy: 0.9030, Testing Accuracy: 0.8667\n"
     ]
    }
   ],
   "source": [
    "network = Model()\n",
    "criterion = torch.nn.BCELoss(reduction = 'mean')\n",
    "optimalizer = torch.optim.Adam(network.parameters(), lr = 0.001)\n",
    "\n",
    "num_epoch = 500\n",
    "\n",
    "for epoch in range(num_epoch):\n",
    "    network.train()\n",
    "    \n",
    "    running_loss = 0.0\n",
    "    correct_train = 0\n",
    "    \n",
    "    for (x, y) in train_loader:\n",
    "        y = y.unsqueeze(1)\n",
    "\n",
    "        output = network(x)\n",
    "        loss = criterion(output, y)\n",
    "\n",
    "        correct_train += ((output >= 0.5).int() == y).sum().item()\n",
    "        running_loss += loss.item() * y.size(0)\n",
    "\n",
    "        optimalizer.zero_grad()\n",
    "        loss.backward()\n",
    "        optimalizer.step()\n",
    "    avg_loss = running_loss / len(train_data)\n",
    "    train_acc = correct_train / len(train_data)\n",
    "\n",
    "    if epoch % 50 == 0:\n",
    "        network.eval()\n",
    "\n",
    "        correct_test = 0\n",
    "\n",
    "        with torch.no_grad():\n",
    "            for i, (x, y) in enumerate(test_loader):\n",
    "                y = y.unsqueeze(1)\n",
    "                output = network(x)\n",
    "                correct_test +=  ((output >= 0.5).int() == y).sum().item()\n",
    "        test_acc = correct_test / len(test_data)\n",
    "\n",
    "        print(\"Epoch: [{}/{}], Loss: {:.4f}, Training Accuracy: {:.4f}, Testing Accuracy: {:.4f}\".format(epoch+50,\n",
    "                                                                                        num_epoch,\n",
    "                                                                                        avg_loss,\n",
    "                                                                                        train_acc,\n",
    "                                                                                        test_acc))"
   ]
  }
 ],
 "metadata": {
  "kernelspec": {
   "display_name": "Python 3",
   "language": "python",
   "name": "python3"
  },
  "language_info": {
   "codemirror_mode": {
    "name": "ipython",
    "version": 3
   },
   "file_extension": ".py",
   "mimetype": "text/x-python",
   "name": "python",
   "nbconvert_exporter": "python",
   "pygments_lexer": "ipython3",
   "version": "3.9.13"
  }
 },
 "nbformat": 4,
 "nbformat_minor": 5
}
